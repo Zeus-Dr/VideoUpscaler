{
 "cells": [
  {
   "cell_type": "code",
   "execution_count": 3,
   "metadata": {},
   "outputs": [],
   "source": [
    "import cv2"
   ]
  },
  {
   "cell_type": "code",
   "execution_count": 6,
   "metadata": {},
   "outputs": [],
   "source": [
    "def extract_frames(video_path, output_folder):\n",
    "    # Open the video file\n",
    "    video = cv2.VideoCapture(video_path)\n",
    "    \n",
    "    # Get the total number of frames\n",
    "    total_frames = int(video.get(cv2.CAP_PROP_FRAME_COUNT))\n",
    "    print(\"Total number of frames:\", total_frames)\n",
    "    \n",
    "    # Loop through each frame and save it as an image\n",
    "    for frame_number in range(total_frames):\n",
    "        # Read a frame\n",
    "        ret, frame = video.read()\n",
    "        if not ret:\n",
    "            break\n",
    "        \n",
    "        # Save the frame as an image\n",
    "        frame_filename = f\"{output_folder}/frame_{frame_number:04d}.jpg\"\n",
    "        cv2.imwrite(frame_filename, frame)\n",
    "    \n",
    "    # Release the video object\n",
    "    video.release()\n"
   ]
  },
  {
   "cell_type": "code",
   "execution_count": 7,
   "metadata": {},
   "outputs": [
    {
     "name": "stdout",
     "output_type": "stream",
     "text": [
      "Total number of frames: 1327\n"
     ]
    }
   ],
   "source": [
    "if __name__ == \"__main__\":\n",
    "    # Specify the path to the video file\n",
    "    video_path = \"trials\\\\DSCN7265.MOV\"\n",
    "    \n",
    "    # Specify the folder where the frames will be saved\n",
    "    output_folder = \"outputs\"\n",
    "    \n",
    "    # Extract frames from the video\n",
    "    extract_frames(video_path, output_folder)"
   ]
  }
 ],
 "metadata": {
  "kernelspec": {
   "display_name": "Python 3",
   "language": "python",
   "name": "python3"
  },
  "language_info": {
   "codemirror_mode": {
    "name": "ipython",
    "version": 3
   },
   "file_extension": ".py",
   "mimetype": "text/x-python",
   "name": "python",
   "nbconvert_exporter": "python",
   "pygments_lexer": "ipython3",
   "version": "3.10.5"
  }
 },
 "nbformat": 4,
 "nbformat_minor": 2
}
